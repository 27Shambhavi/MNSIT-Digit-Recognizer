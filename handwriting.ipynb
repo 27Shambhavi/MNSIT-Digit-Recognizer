{
 "cells": [
  {
   "cell_type": "code",
<<<<<<< HEAD
   "execution_count": 2,
   "id": "4fa19b59",
=======
   "execution_count": 28,
   "id": "4f130926",
>>>>>>> 2e1b761dad5b9e26d2b8a452f9ff7fa1104c8b9f
   "metadata": {},
   "outputs": [],
   "source": [
    "import tensorflow\n",
    "from tensorflow import keras\n",
    "from tensorflow.keras import Sequential\n",
    "from tensorflow.keras.layers import Dense,Flatten"
   ]
  },
  {
   "cell_type": "code",
<<<<<<< HEAD
   "execution_count": 3,
=======
   "execution_count": 29,
>>>>>>> 2e1b761dad5b9e26d2b8a452f9ff7fa1104c8b9f
   "id": "845d7db3",
   "metadata": {},
   "outputs": [],
   "source": [
    "(x_train,y_train),(x_test,y_test)=keras.datasets.mnist.load_data()"
   ]
  },
  {
   "cell_type": "code",
<<<<<<< HEAD
   "execution_count": 4,
=======
   "execution_count": 30,
>>>>>>> 2e1b761dad5b9e26d2b8a452f9ff7fa1104c8b9f
   "id": "836e92b9",
   "metadata": {},
   "outputs": [
    {
     "data": {
      "text/plain": [
       "array([[[0, 0, 0, ..., 0, 0, 0],\n",
       "        [0, 0, 0, ..., 0, 0, 0],\n",
       "        [0, 0, 0, ..., 0, 0, 0],\n",
       "        ...,\n",
       "        [0, 0, 0, ..., 0, 0, 0],\n",
       "        [0, 0, 0, ..., 0, 0, 0],\n",
       "        [0, 0, 0, ..., 0, 0, 0]],\n",
       "\n",
       "       [[0, 0, 0, ..., 0, 0, 0],\n",
       "        [0, 0, 0, ..., 0, 0, 0],\n",
       "        [0, 0, 0, ..., 0, 0, 0],\n",
       "        ...,\n",
       "        [0, 0, 0, ..., 0, 0, 0],\n",
       "        [0, 0, 0, ..., 0, 0, 0],\n",
       "        [0, 0, 0, ..., 0, 0, 0]],\n",
       "\n",
       "       [[0, 0, 0, ..., 0, 0, 0],\n",
       "        [0, 0, 0, ..., 0, 0, 0],\n",
       "        [0, 0, 0, ..., 0, 0, 0],\n",
       "        ...,\n",
       "        [0, 0, 0, ..., 0, 0, 0],\n",
       "        [0, 0, 0, ..., 0, 0, 0],\n",
       "        [0, 0, 0, ..., 0, 0, 0]],\n",
       "\n",
       "       ...,\n",
       "\n",
       "       [[0, 0, 0, ..., 0, 0, 0],\n",
       "        [0, 0, 0, ..., 0, 0, 0],\n",
       "        [0, 0, 0, ..., 0, 0, 0],\n",
       "        ...,\n",
       "        [0, 0, 0, ..., 0, 0, 0],\n",
       "        [0, 0, 0, ..., 0, 0, 0],\n",
       "        [0, 0, 0, ..., 0, 0, 0]],\n",
       "\n",
       "       [[0, 0, 0, ..., 0, 0, 0],\n",
       "        [0, 0, 0, ..., 0, 0, 0],\n",
       "        [0, 0, 0, ..., 0, 0, 0],\n",
       "        ...,\n",
       "        [0, 0, 0, ..., 0, 0, 0],\n",
       "        [0, 0, 0, ..., 0, 0, 0],\n",
       "        [0, 0, 0, ..., 0, 0, 0]],\n",
       "\n",
       "       [[0, 0, 0, ..., 0, 0, 0],\n",
       "        [0, 0, 0, ..., 0, 0, 0],\n",
       "        [0, 0, 0, ..., 0, 0, 0],\n",
       "        ...,\n",
       "        [0, 0, 0, ..., 0, 0, 0],\n",
       "        [0, 0, 0, ..., 0, 0, 0],\n",
       "        [0, 0, 0, ..., 0, 0, 0]]], dtype=uint8)"
      ]
     },
<<<<<<< HEAD
     "execution_count": 4,
=======
     "execution_count": 30,
>>>>>>> 2e1b761dad5b9e26d2b8a452f9ff7fa1104c8b9f
     "metadata": {},
     "output_type": "execute_result"
    }
   ],
   "source": [
    "x_train"
   ]
  },
  {
   "cell_type": "code",
<<<<<<< HEAD
   "execution_count": 5,
=======
   "execution_count": 31,
>>>>>>> 2e1b761dad5b9e26d2b8a452f9ff7fa1104c8b9f
   "id": "a27c46f9",
   "metadata": {},
   "outputs": [
    {
     "data": {
      "text/plain": [
       "(60000, 28, 28)"
      ]
     },
<<<<<<< HEAD
     "execution_count": 5,
=======
     "execution_count": 31,
>>>>>>> 2e1b761dad5b9e26d2b8a452f9ff7fa1104c8b9f
     "metadata": {},
     "output_type": "execute_result"
    }
   ],
   "source": [
    "x_train.shape"
   ]
  },
  {
   "cell_type": "code",
<<<<<<< HEAD
   "execution_count": 6,
=======
   "execution_count": 32,
>>>>>>> 2e1b761dad5b9e26d2b8a452f9ff7fa1104c8b9f
   "id": "593e0093",
   "metadata": {},
   "outputs": [
    {
     "data": {
      "text/plain": [
       "(10000, 28, 28)"
      ]
     },
<<<<<<< HEAD
     "execution_count": 6,
=======
     "execution_count": 32,
>>>>>>> 2e1b761dad5b9e26d2b8a452f9ff7fa1104c8b9f
     "metadata": {},
     "output_type": "execute_result"
    }
   ],
   "source": [
    "x_test.shape"
   ]
  },
  {
   "cell_type": "code",
<<<<<<< HEAD
   "execution_count": 7,
=======
   "execution_count": 33,
>>>>>>> 2e1b761dad5b9e26d2b8a452f9ff7fa1104c8b9f
   "id": "bc31ba78",
   "metadata": {},
   "outputs": [
    {
     "data": {
      "text/plain": [
       "array([5, 0, 4, ..., 5, 6, 8], dtype=uint8)"
      ]
     },
<<<<<<< HEAD
     "execution_count": 7,
=======
     "execution_count": 33,
>>>>>>> 2e1b761dad5b9e26d2b8a452f9ff7fa1104c8b9f
     "metadata": {},
     "output_type": "execute_result"
    }
   ],
   "source": [
    "y_train"
   ]
  },
  {
   "cell_type": "code",
<<<<<<< HEAD
   "execution_count": 8,
=======
   "execution_count": 34,
>>>>>>> 2e1b761dad5b9e26d2b8a452f9ff7fa1104c8b9f
   "id": "0d8a04a3",
   "metadata": {},
   "outputs": [
    {
     "data": {
      "text/plain": [
<<<<<<< HEAD
       "<matplotlib.image.AxesImage at 0x1cb27aec2d0>"
      ]
     },
     "execution_count": 8,
=======
       "<matplotlib.image.AxesImage at 0x2157e677bd0>"
      ]
     },
     "execution_count": 34,
>>>>>>> 2e1b761dad5b9e26d2b8a452f9ff7fa1104c8b9f
     "metadata": {},
     "output_type": "execute_result"
    },
    {
     "data": {
      "image/png": "iVBORw0KGgoAAAANSUhEUgAAAaAAAAGdCAYAAABU0qcqAAAAOnRFWHRTb2Z0d2FyZQBNYXRwbG90bGliIHZlcnNpb24zLjEwLjEsIGh0dHBzOi8vbWF0cGxvdGxpYi5vcmcvc2/+5QAAAAlwSFlzAAAPYQAAD2EBqD+naQAAGnxJREFUeJzt3Q1wFGWex/H/ACEQSIIhkJclYHgTl5d4ImIKxLjkErCWAqQ8ULcKPA8KBHchvnCxFMR1K4pXrAuHcLe1Eq1SQLaErJRyhWCSZU2wAFmKW0WCUcKSBMFKAkFCSPrqaS4xowH2GRL+k+nvp6pr0jP9p5tOZ37zdD/9jM9xHEcAALjBOt3oFQIAYBBAAAAVBBAAQAUBBABQQQABAFQQQAAAFQQQAEAFAQQAUNFFgkxjY6OcPHlSIiMjxefzaW8OAMCSGd/g7NmzkpiYKJ06deo4AWTCJykpSXszAADXqaysTPr169dxAsi0fIzxcp90kTDtzQEAWLok9bJH3m9+P7/hAbR27Vp55ZVXpKKiQlJSUmTNmjVy5513XrOu6bSbCZ8uPgIIADqc/x9h9FqXUdqlE8LmzZslKytLli9fLgcOHHADKDMzU06dOtUeqwMAdEDtEkCrVq2SuXPnyiOPPCI//elPZf369RIRESGvv/56e6wOANABtXkAXbx4Ufbv3y/p6enfr6RTJ3e+qKjoR8vX1dVJTU2N3wQACH1tHkCnT5+WhoYGiYuL83vezJvrQT+Uk5Mj0dHRzRM94ADAG9RvRM3Ozpbq6urmyXTbAwCEvjbvBRcbGyudO3eWyspKv+fNfHx8/I+WDw8PdycAgLe0eQuoa9euMnr0aNm1a5ff6AZmPjU1ta1XBwDooNrlPiDTBXv27Nlyxx13uPf+vPrqq1JbW+v2igMAoN0CaObMmfLNN9/IsmXL3I4Ht912m+zYseNHHRMAAN7lc8yocUHEdMM2veHSZCojIQBAB3TJqZd8yXM7lkVFRQVvLzgAgDcRQAAAFQQQAEAFAQQAUEEAAQBUEEAAABUEEABABQEEAFBBAAEAVBBAAAAVBBAAQAUBBABQQQABAFQQQAAAFQQQAEAFAQQAUEEAAQBUEEAAABUEEABABQEEAFBBAAEAVBBAAAAVBBAAQAUBBABQQQABAFQQQAAAFQQQAEAFAQQAUEEAAQBUEEAAABUEEABABQEEAFBBAAEAVBBAAAAVBBAAQAUBBABQQQABAFQQQAAAFQQQAEAFAQQAUEEAAQBUEEAAABUEEABABQEEAFBBAAEAVBBAAAAVBBAAQAUBBABQQQABAFQQQAAAFQQQAEAFAQQAUNFFZ7VAcPJ1sf+T6NwnVoLVkSdvDqiuIaLRumbAoFPWNRGP+axrKlZ1ta45cMdmCcTphlrrmrFbnrCuGZxVLF5ECwgAoIIAAgCERgA9//zz4vP5/KZhw4a19WoAAB1cu1wDGj58uHz44YffrySA8+oAgNDWLslgAic+Pr49/mkAQIhol2tAR48elcTERBk4cKA8/PDDcvz48SsuW1dXJzU1NX4TACD0tXkAjR07VnJzc2XHjh2ybt06KS0tlbvvvlvOnj3b6vI5OTkSHR3dPCUlJbX1JgEAvBBAkydPlgceeEBGjRolmZmZ8v7770tVVZW88847rS6fnZ0t1dXVzVNZWVlbbxIAIAi1e++AXr16ydChQ6WkpKTV18PDw90JAOAt7X4f0Llz5+TYsWOSkJDQ3qsCAHg5gJ588kkpKCiQr776Sj7++GOZPn26dO7cWR588MG2XhUAoANr81NwJ06ccMPmzJkz0qdPHxk/frwUFxe7PwMA0G4BtGnTprb+JxGkOt86xLrGCQ+zrjl5Ty/rmu/ush9E0oiJtq/7c0pgA12Gmg/OR1rXvPyfk6xr9o5827qmtP47CcRLlf9sXZP4ZyegdXkRY8EBAFQQQAAAFQQQAEAFAQQAUEEAAQBUEEAAABUEEABABQEEAFBBAAEAVBBAAAAVBBAAQAUBBAAIzS+kQ/BrSLs9oLpVuWuta4aGdQ1oXbix6p0G65pla+ZY13SptR+4M3XLIuuayL9fkkCEn7YfxDRi396A1uVFtIAAACoIIACACgIIAKCCAAIAqCCAAAAqCCAAgAoCCACgggACAKgggAAAKgggAIAKAggAoIIAAgCoIIAAACoYDRsSfuRkQHX7LyRZ1wwNqwxoXaHmifK7rGu+PBdrXZM76I8SiOpG+1Gq41Z/LKHGfi/ABi0gAIAKAggAoIIAAgCoIIAAACoIIACACgIIAKCCAAIAqCCAAAAqCCAAgAoCCACgggACAKgggAAAKhiMFHKpvCKgujUvP2Bd85tJtdY1nQ/1tK7562Nr5EZ58fQo65qS9Ajrmoaqcuuah1Ifk0B89Uv7mmT5a0DrgnfRAgIAqCCAAAAqCCAAgAoCCACgggACAKgggAAAKgggAIAKAggAoIIAAgCoIIAAACoIIACACgIIAKCCwUgRsJgNRdY1fd7rbV3TcOZb65rhI/5VAvG/E163rvnTf99jXdO36mO5EXxFgQ0Qmmz/qwWs0QICAKgggAAAHSOACgsLZcqUKZKYmCg+n0+2bdvm97rjOLJs2TJJSEiQ7t27S3p6uhw9erQttxkA4MUAqq2tlZSUFFm7dm2rr69cuVJWr14t69evl71790qPHj0kMzNTLly40BbbCwDwaieEyZMnu1NrTOvn1VdflWeffVamTp3qPvfmm29KXFyc21KaNWvW9W8xACAktOk1oNLSUqmoqHBPuzWJjo6WsWPHSlFR691q6urqpKamxm8CAIS+Ng0gEz6GafG0ZOabXvuhnJwcN6SapqSkpLbcJABAkFLvBZednS3V1dXNU1lZmfYmAQA6WgDFx8e7j5WVlX7Pm/mm134oPDxcoqKi/CYAQOhr0wBKTk52g2bXrl3Nz5lrOqY3XGpqaluuCgDgtV5w586dk5KSEr+OBwcPHpSYmBjp37+/LF68WF588UUZMmSIG0jPPfece8/QtGnT2nrbAQBeCqB9+/bJvffe2zyflZXlPs6ePVtyc3Pl6aefdu8VmjdvnlRVVcn48eNlx44d0q1bt7bdcgBAh+ZzzM07QcScsjO94dJkqnTxhWlvDjqoL/5rTGB1P19vXfPI1xOta74Zf9a6Rhob7GsABZecesmXPLdj2dWu66v3ggMAeBMBBABQQQABAFQQQAAAFQQQAEAFAQQAUEEAAQBUEEAAABUEEABABQEEAFBBAAEAVBBAAAAVBBAAoGN8HQPQEdy69IuA6h4ZaT+y9YYB338B4z/qngcWWtdEbi62rgGCGS0gAIAKAggAoIIAAgCoIIAAACoIIACACgIIAKCCAAIAqCCAAAAqCCAAgAoCCACgggACAKgggAAAKhiMFCGpoao6oLozC261rjn+p++sa/79xTeta7L/Zbp1jfNptAQi6TdF9kWOE9C64F20gAAAKgggAIAKAggAoIIAAgCoIIAAACoIIACACgIIAKCCAAIAqCCAAAAqCCAAgAoCCACgggACAKhgMFKghca/fmZdM2vFU9Y1by3/D+uag3fZD2Aqd0lAhvdYZF0z5Pfl1jWXvvzKugahgxYQAEAFAQQAUEEAAQBUEEAAABUEEABABQEEAFBBAAEAVBBAAAAVBBAAQAUBBABQQQABAFQQQAAAFT7HcRwJIjU1NRIdHS1pMlW6+MK0NwdoF86426xrol46YV2zceD/yI0y7KN/s665ZUW1dU3D0S+ta3BjXXLqJV/ypLq6WqKioq64HC0gAIAKAggA0DECqLCwUKZMmSKJiYni8/lk27Ztfq/PmTPHfb7lNGnSpLbcZgCAFwOotrZWUlJSZO3atVdcxgROeXl587Rx48br3U4AgNe/EXXy5MnudDXh4eESHx9/PdsFAAhx7XINKD8/X/r27Su33HKLLFiwQM6cOXPFZevq6tyeby0nAEDoa/MAMqff3nzzTdm1a5e8/PLLUlBQ4LaYGhoaWl0+JyfH7XbdNCUlJbX1JgEAQuEU3LXMmjWr+eeRI0fKqFGjZNCgQW6raOLEiT9aPjs7W7KysprnTQuIEAKA0Nfu3bAHDhwosbGxUlJScsXrReZGpZYTACD0tXsAnThxwr0GlJCQ0N6rAgCE8im4c+fO+bVmSktL5eDBgxITE+NOK1askBkzZri94I4dOyZPP/20DB48WDIzM9t62wEAXgqgffv2yb333ts833T9Zvbs2bJu3To5dOiQvPHGG1JVVeXerJqRkSG//vWv3VNtAAA0YTBSoIPoHNfXuubkzMEBrWvv0t9Z13QK4Iz+w6UZ1jXV4698WweCA4ORAgCCGgEEAFBBAAEAVBBAAAAVBBAAQAUBBABQQQABAFQQQAAAFQQQAEAFAQQAUEEAAQBUEEAAABUEEAAgNL6SG0D7aKg8ZV0Tt9q+xrjw9CXrmghfV+ua39+83brm59MXW9dEbN1rXYP2RwsIAKCCAAIAqCCAAAAqCCAAgAoCCACgggACAKgggAAAKgggAIAKAggAoIIAAgCoIIAAACoIIACACgYjBRQ0jr/NuubYA92sa0bc9pUEIpCBRQOx5tt/sq6JyNvXLtuCG48WEABABQEEAFBBAAEAVBBAAAAVBBAAQAUBBABQQQABAFQQQAAAFQQQAEAFAQQAUEEAAQBUEEAAABUMRgq04LtjhHXNF7+0H7jz9+PesK6Z0O2iBLM6p966pvjbZPsVNZbb1yAo0QICAKgggAAAKgggAIAKAggAoIIAAgCoIIAAACoIIACACgIIAKCCAAIAqCCAAAAqCCAAgAoCCACggsFIEfS6JA+wrjn2SGJA63p+5ibrmhk9T0uoeabyDuuagt/dZV1z0xtF1jUIHbSAAAAqCCAAQPAHUE5OjowZM0YiIyOlb9++Mm3aNDly5IjfMhcuXJCFCxdK7969pWfPnjJjxgyprKxs6+0GAHgpgAoKCtxwKS4ulp07d0p9fb1kZGRIbW1t8zJLliyR9957T7Zs2eIuf/LkSbn//vvbY9sBAF7phLBjxw6/+dzcXLcltH//fpkwYYJUV1fLH/7wB3n77bflZz/7mbvMhg0b5NZbb3VD66677C9SAgBC03VdAzKBY8TExLiPJohMqyg9Pb15mWHDhkn//v2lqKj13i51dXVSU1PjNwEAQl/AAdTY2CiLFy+WcePGyYgRI9znKioqpGvXrtKrVy+/ZePi4tzXrnRdKTo6unlKSkoKdJMAAF4IIHMt6PDhw7Jpk/19Ey1lZ2e7Lammqays7Lr+PQBACN+IumjRItm+fbsUFhZKv379mp+Pj4+XixcvSlVVlV8ryPSCM6+1Jjw83J0AAN5i1QJyHMcNn61bt8ru3bslOTnZ7/XRo0dLWFiY7Nq1q/k50037+PHjkpqa2nZbDQDwVgvInHYzPdzy8vLce4GaruuYazfdu3d3Hx999FHJyspyOyZERUXJ448/7oYPPeAAAAEH0Lp169zHtLQ0v+dNV+s5c+a4P//2t7+VTp06uTegmh5umZmZ8tprr9msBgDgAT7HnFcLIqYbtmlJpclU6eIL094cXEWXm/tb11SPTrCumfmC//1n/4j5vb6UUPNEuf1ZhKLX7AcVNWJyP7EvamwIaF0IPZecesmXPLdjmTkTdiWMBQcAUEEAAQBUEEAAABUEEABABQEEAFBBAAEAVBBAAAAVBBAAQAUBBABQQQABAFQQQAAAFQQQAEAFAQQA6DjfiIrg1SWh9W+evZpvX+8R0LoWJBdY1zwYWSmhZtHfx1vXHFh3m3VN7B8PW9fEnC2yrgFuFFpAAAAVBBAAQAUBBABQQQABAFQQQAAAFQQQAEAFAQQAUEEAAQBUEEAAABUEEABABQEEAFBBAAEAVDAY6Q1yMfMO+5ol31rXPDP4feuajO61EmoqG74LqG7Cn56wrhn27OfWNTFV9oOENlpXAMGNFhAAQAUBBABQQQABAFQQQAAAFQQQAEAFAQQAUEEAAQBUEEAAABUEEABABQEEAFBBAAEAVBBAAAAVDEZ6g3w1zT7rvxi5RYLZ2qpB1jW/K8iwrvE1+Kxrhr1YKoEYUrnXuqYhoDUBoAUEAFBBAAEAVBBAAAAVBBAAQAUBBABQQQABAFQQQAAAFQQQAEAFAQQAUEEAAQBUEEAAABUEEABAhc9xHEeCSE1NjURHR0uaTJUuvjDtzQEAWLrk1Eu+5El1dbVERUVdcTlaQAAAFQQQACD4AygnJ0fGjBkjkZGR0rdvX5k2bZocOXLEb5m0tDTx+Xx+0/z589t6uwEAXgqggoICWbhwoRQXF8vOnTulvr5eMjIypLa21m+5uXPnSnl5efO0cuXKtt5uAICXvhF1x44dfvO5ubluS2j//v0yYcKE5ucjIiIkPj6+7bYSABByrusakOnhYMTExPg9/9Zbb0lsbKyMGDFCsrOz5fz581f8N+rq6tyeby0nAEDos2oBtdTY2CiLFy+WcePGuUHT5KGHHpIBAwZIYmKiHDp0SJYuXepeJ3r33XeveF1pxYoVgW4GAMBr9wEtWLBAPvjgA9mzZ4/069fvisvt3r1bJk6cKCUlJTJo0KBWW0BmamJaQElJSdwHBAAhfh9QQC2gRYsWyfbt26WwsPCq4WOMHTvWfbxSAIWHh7sTAMBbrALINJYef/xx2bp1q+Tn50tycvI1aw4ePOg+JiQkBL6VAABvB5Dpgv32229LXl6eey9QRUWF+7wZOqd79+5y7Ngx9/X77rtPevfu7V4DWrJkidtDbtSoUe31fwAAhPo1IHNTaWs2bNggc+bMkbKyMvnFL34hhw8fdu8NMtdypk+fLs8+++xVzwO2xFhwANCxtcs1oGtllQkcc7MqAADXwlhwAAAVBBAAQAUBBABQQQABAFQQQAAAFQQQAEAFAQQAUEEAAQBUEEAAABUEEABABQEEAFBBAAEAVBBAAAAVBBAAQAUBBABQQQABAFQQQAAAFQQQAEAFAQQAUEEAAQBUEEAAABUEEABABQEEAFBBAAEAVBBAAAAVXSTIOI7jPl6SepHLPwIAOhD3/bvF+3mHCaCzZ8+6j3vkfe1NAQBc5/t5dHT0FV/3OdeKqBussbFRTp48KZGRkeLz+fxeq6mpkaSkJCkrK5OoqCjxKvbDZeyHy9gPl7Efgmc/mFgx4ZOYmCidOnXqOC0gs7H9+vW76jJmp3r5AGvCfriM/XAZ++Ey9kNw7IertXya0AkBAKCCAAIAqOhQARQeHi7Lly93H72M/XAZ++Ey9sNl7IeOtx+CrhMCAMAbOlQLCAAQOgggAIAKAggAoIIAAgCo6DABtHbtWrn55pulW7duMnbsWPnkk0/Ea55//nl3dIiW07BhwyTUFRYWypQpU9y7qs3/edu2bX6vm340y5Ytk4SEBOnevbukp6fL0aNHxWv7Yc6cOT86PiZNmiShJCcnR8aMGeOOlNK3b1+ZNm2aHDlyxG+ZCxcuyMKFC6V3797Ss2dPmTFjhlRWVorX9kNaWtqPjof58+dLMOkQAbR582bJyspyuxYeOHBAUlJSJDMzU06dOiVeM3z4cCkvL2+e9uzZI6GutrbW/Z2bDyGtWblypaxevVrWr18ve/fulR49erjHh3kj8tJ+MEzgtDw+Nm7cKKGkoKDADZfi4mLZuXOn1NfXS0ZGhrtvmixZskTee+892bJli7u8Gdrr/vvvF6/tB2Pu3Ll+x4P5WwkqTgdw5513OgsXLmyeb2hocBITE52cnBzHS5YvX+6kpKQ4XmYO2a1btzbPNzY2OvHx8c4rr7zS/FxVVZUTHh7ubNy40fHKfjBmz57tTJ061fGSU6dOufuioKCg+XcfFhbmbNmypXmZzz77zF2mqKjI8cp+MO655x7nV7/6lRPMgr4FdPHiRdm/f797WqXleHFmvqioSLzGnFoyp2AGDhwoDz/8sBw/fly8rLS0VCoqKvyODzMGlTlN68XjIz8/3z0lc8stt8iCBQvkzJkzEsqqq6vdx5iYGPfRvFeY1kDL48Gcpu7fv39IHw/VP9gPTd566y2JjY2VESNGSHZ2tpw/f16CSdANRvpDp0+floaGBomLi/N73sx//vnn4iXmTTU3N9d9czHN6RUrVsjdd98thw8fds8Fe5EJH6O146PpNa8wp9/Mqabk5GQ5duyYPPPMMzJ58mT3jbdz584SaszI+YsXL5Zx48a5b7CG+Z137dpVevXq5ZnjobGV/WA89NBDMmDAAPcD66FDh2Tp0qXudaJ3331XgkXQBxC+Z95MmowaNcoNJHOAvfPOO/Loo4+qbhv0zZo1q/nnkSNHusfIoEGD3FbRxIkTJdSYayDmw5cXroMGsh/mzZvndzyYTjrmODAfTsxxEQyC/hScaT6aT28/7MVi5uPj48XLzKe8oUOHSklJiXhV0zHA8fFj5jSt+fsJxeNj0aJFsn37dvnoo4/8vr7F/M7NafuqqipPHA+LrrAfWmM+sBrBdDwEfQCZ5vTo0aNl165dfk1OM5+amipedu7cOffTjPlk41XmdJN5Y2l5fJgv5DK94bx+fJw4ccK9BhRKx4fpf2HedLdu3Sq7d+92f/8tmfeKsLAwv+PBnHYy10pD6XhwrrEfWnPw4EH3MaiOB6cD2LRpk9urKTc31/nb3/7mzJs3z+nVq5dTUVHheMkTTzzh5OfnO6Wlpc5f/vIXJz093YmNjXV7wISys2fPOp9++qk7mUN21apV7s9ff/21+/pLL73kHg95eXnOoUOH3J5gycnJznfffed4ZT+Y15588km3p5c5Pj788EPn9ttvd4YMGeJcuHDBCRULFixwoqOj3b+D8vLy5un8+fPNy8yfP9/p37+/s3v3bmffvn1OamqqO4WSBdfYDyUlJc4LL7zg/v/N8WD+NgYOHOhMmDDBCSYdIoCMNWvWuAdV165d3W7ZxcXFjtfMnDnTSUhIcPfBT37yE3feHGih7qOPPnLfcH84mW7HTV2xn3vuOScuLs79oDJx4kTnyJEjjpf2g3njycjIcPr06eN2Qx4wYIAzd+7ckPuQ1tr/30wbNmxoXsZ88Hjsscecm266yYmIiHCmT5/uvjl7aT8cP37cDZuYmBj3b2Lw4MHOU0895VRXVzvBhK9jAACoCPprQACA0EQAAQBUEEAAABUEEABABQEEAFBBAAEAVBBAAAAVBBAAQAUBBABQQQABAFQQQAAAFQQQAEA0/B+FuPwJ9ukV/QAAAABJRU5ErkJggg==",
      "text/plain": [
       "<Figure size 640x480 with 1 Axes>"
      ]
     },
     "metadata": {},
     "output_type": "display_data"
    }
   ],
   "source": [
    "import matplotlib.pyplot as plt\n",
    "plt.imshow(x_train[0])"
   ]
  },
  {
   "cell_type": "code",
<<<<<<< HEAD
   "execution_count": 9,
=======
   "execution_count": 35,
>>>>>>> 2e1b761dad5b9e26d2b8a452f9ff7fa1104c8b9f
   "id": "f114d648",
   "metadata": {},
   "outputs": [
    {
     "data": {
      "text/plain": [
<<<<<<< HEAD
       "<matplotlib.image.AxesImage at 0x1cb2b070a90>"
      ]
     },
     "execution_count": 9,
=======
       "<matplotlib.image.AxesImage at 0x2157700fa90>"
      ]
     },
     "execution_count": 35,
>>>>>>> 2e1b761dad5b9e26d2b8a452f9ff7fa1104c8b9f
     "metadata": {},
     "output_type": "execute_result"
    },
    {
     "data": {
      "image/png": "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",
      "text/plain": [
       "<Figure size 640x480 with 1 Axes>"
      ]
     },
     "metadata": {},
     "output_type": "display_data"
    }
   ],
   "source": [
    "import matplotlib.pyplot as plt\n",
    "plt.imshow(x_train[2])"
   ]
  },
  {
   "cell_type": "markdown",
   "id": "8aaaac68",
   "metadata": {},
   "source": [
    "Now we have to build a neural n/w so that the images parse through it and it will understand the images , pixel values and then predict the correct number."
   ]
  },
  {
   "cell_type": "markdown",
   "id": "8fd5383c",
   "metadata": {},
   "source": [
    "The numbers are b/w 0 to 255 now we have to convert it(array) into 0 to 1 bcoz similar range is important for the number so that wt. can be easily out and convergence is fast , we will divide by 255 (max value) to every no. bcoz max will be divided by 255 gives 1 and rest will give min value"
   ]
  },
  {
   "cell_type": "code",
<<<<<<< HEAD
   "execution_count": 10,
=======
   "execution_count": 36,
>>>>>>> 2e1b761dad5b9e26d2b8a452f9ff7fa1104c8b9f
   "id": "7d09a250",
   "metadata": {},
   "outputs": [],
   "source": [
    "x_train=x_train/255.0\n",
    "x_test=x_test/255.0"
   ]
  },
  {
   "cell_type": "code",
<<<<<<< HEAD
   "execution_count": 11,
=======
   "execution_count": 37,
>>>>>>> 2e1b761dad5b9e26d2b8a452f9ff7fa1104c8b9f
   "id": "5600d2e4",
   "metadata": {},
   "outputs": [
    {
     "data": {
      "text/plain": [
       "array([[0.        , 0.        , 0.        , 0.        , 0.        ,\n",
       "        0.        , 0.        , 0.        , 0.        , 0.        ,\n",
       "        0.        , 0.        , 0.        , 0.        , 0.        ,\n",
       "        0.        , 0.        , 0.        , 0.        , 0.        ,\n",
       "        0.        , 0.        , 0.        , 0.        , 0.        ,\n",
       "        0.        , 0.        , 0.        ],\n",
       "       [0.        , 0.        , 0.        , 0.        , 0.        ,\n",
       "        0.        , 0.        , 0.        , 0.        , 0.        ,\n",
       "        0.        , 0.        , 0.        , 0.        , 0.        ,\n",
       "        0.        , 0.        , 0.        , 0.        , 0.        ,\n",
       "        0.        , 0.        , 0.        , 0.        , 0.        ,\n",
       "        0.        , 0.        , 0.        ],\n",
       "       [0.        , 0.        , 0.        , 0.        , 0.        ,\n",
       "        0.        , 0.        , 0.        , 0.        , 0.        ,\n",
       "        0.        , 0.        , 0.        , 0.        , 0.        ,\n",
       "        0.        , 0.        , 0.        , 0.        , 0.        ,\n",
       "        0.        , 0.        , 0.        , 0.        , 0.        ,\n",
       "        0.        , 0.        , 0.        ],\n",
       "       [0.        , 0.        , 0.        , 0.        , 0.        ,\n",
       "        0.        , 0.        , 0.        , 0.        , 0.        ,\n",
       "        0.        , 0.        , 0.        , 0.        , 0.        ,\n",
       "        0.        , 0.        , 0.        , 0.        , 0.        ,\n",
       "        0.        , 0.        , 0.        , 0.        , 0.        ,\n",
       "        0.        , 0.        , 0.        ],\n",
       "       [0.        , 0.        , 0.        , 0.        , 0.        ,\n",
       "        0.        , 0.        , 0.        , 0.        , 0.        ,\n",
       "        0.        , 0.        , 0.        , 0.        , 0.        ,\n",
       "        0.        , 0.        , 0.        , 0.        , 0.        ,\n",
       "        0.        , 0.        , 0.        , 0.        , 0.        ,\n",
       "        0.        , 0.        , 0.        ],\n",
       "       [0.        , 0.        , 0.        , 0.        , 0.        ,\n",
       "        0.        , 0.        , 0.        , 0.        , 0.        ,\n",
       "        0.        , 0.        , 0.01176471, 0.07058824, 0.07058824,\n",
       "        0.07058824, 0.49411765, 0.53333333, 0.68627451, 0.10196078,\n",
       "        0.65098039, 1.        , 0.96862745, 0.49803922, 0.        ,\n",
       "        0.        , 0.        , 0.        ],\n",
       "       [0.        , 0.        , 0.        , 0.        , 0.        ,\n",
       "        0.        , 0.        , 0.        , 0.11764706, 0.14117647,\n",
       "        0.36862745, 0.60392157, 0.66666667, 0.99215686, 0.99215686,\n",
       "        0.99215686, 0.99215686, 0.99215686, 0.88235294, 0.6745098 ,\n",
       "        0.99215686, 0.94901961, 0.76470588, 0.25098039, 0.        ,\n",
       "        0.        , 0.        , 0.        ],\n",
       "       [0.        , 0.        , 0.        , 0.        , 0.        ,\n",
       "        0.        , 0.        , 0.19215686, 0.93333333, 0.99215686,\n",
       "        0.99215686, 0.99215686, 0.99215686, 0.99215686, 0.99215686,\n",
       "        0.99215686, 0.99215686, 0.98431373, 0.36470588, 0.32156863,\n",
       "        0.32156863, 0.21960784, 0.15294118, 0.        , 0.        ,\n",
       "        0.        , 0.        , 0.        ],\n",
       "       [0.        , 0.        , 0.        , 0.        , 0.        ,\n",
       "        0.        , 0.        , 0.07058824, 0.85882353, 0.99215686,\n",
       "        0.99215686, 0.99215686, 0.99215686, 0.99215686, 0.77647059,\n",
       "        0.71372549, 0.96862745, 0.94509804, 0.        , 0.        ,\n",
       "        0.        , 0.        , 0.        , 0.        , 0.        ,\n",
       "        0.        , 0.        , 0.        ],\n",
       "       [0.        , 0.        , 0.        , 0.        , 0.        ,\n",
       "        0.        , 0.        , 0.        , 0.31372549, 0.61176471,\n",
       "        0.41960784, 0.99215686, 0.99215686, 0.80392157, 0.04313725,\n",
       "        0.        , 0.16862745, 0.60392157, 0.        , 0.        ,\n",
       "        0.        , 0.        , 0.        , 0.        , 0.        ,\n",
       "        0.        , 0.        , 0.        ],\n",
       "       [0.        , 0.        , 0.        , 0.        , 0.        ,\n",
       "        0.        , 0.        , 0.        , 0.        , 0.05490196,\n",
       "        0.00392157, 0.60392157, 0.99215686, 0.35294118, 0.        ,\n",
       "        0.        , 0.        , 0.        , 0.        , 0.        ,\n",
       "        0.        , 0.        , 0.        , 0.        , 0.        ,\n",
       "        0.        , 0.        , 0.        ],\n",
       "       [0.        , 0.        , 0.        , 0.        , 0.        ,\n",
       "        0.        , 0.        , 0.        , 0.        , 0.        ,\n",
       "        0.        , 0.54509804, 0.99215686, 0.74509804, 0.00784314,\n",
       "        0.        , 0.        , 0.        , 0.        , 0.        ,\n",
       "        0.        , 0.        , 0.        , 0.        , 0.        ,\n",
       "        0.        , 0.        , 0.        ],\n",
       "       [0.        , 0.        , 0.        , 0.        , 0.        ,\n",
       "        0.        , 0.        , 0.        , 0.        , 0.        ,\n",
       "        0.        , 0.04313725, 0.74509804, 0.99215686, 0.2745098 ,\n",
       "        0.        , 0.        , 0.        , 0.        , 0.        ,\n",
       "        0.        , 0.        , 0.        , 0.        , 0.        ,\n",
       "        0.        , 0.        , 0.        ],\n",
       "       [0.        , 0.        , 0.        , 0.        , 0.        ,\n",
       "        0.        , 0.        , 0.        , 0.        , 0.        ,\n",
       "        0.        , 0.        , 0.1372549 , 0.94509804, 0.88235294,\n",
       "        0.62745098, 0.42352941, 0.00392157, 0.        , 0.        ,\n",
       "        0.        , 0.        , 0.        , 0.        , 0.        ,\n",
       "        0.        , 0.        , 0.        ],\n",
       "       [0.        , 0.        , 0.        , 0.        , 0.        ,\n",
       "        0.        , 0.        , 0.        , 0.        , 0.        ,\n",
       "        0.        , 0.        , 0.        , 0.31764706, 0.94117647,\n",
       "        0.99215686, 0.99215686, 0.46666667, 0.09803922, 0.        ,\n",
       "        0.        , 0.        , 0.        , 0.        , 0.        ,\n",
       "        0.        , 0.        , 0.        ],\n",
       "       [0.        , 0.        , 0.        , 0.        , 0.        ,\n",
       "        0.        , 0.        , 0.        , 0.        , 0.        ,\n",
       "        0.        , 0.        , 0.        , 0.        , 0.17647059,\n",
       "        0.72941176, 0.99215686, 0.99215686, 0.58823529, 0.10588235,\n",
       "        0.        , 0.        , 0.        , 0.        , 0.        ,\n",
       "        0.        , 0.        , 0.        ],\n",
       "       [0.        , 0.        , 0.        , 0.        , 0.        ,\n",
       "        0.        , 0.        , 0.        , 0.        , 0.        ,\n",
       "        0.        , 0.        , 0.        , 0.        , 0.        ,\n",
       "        0.0627451 , 0.36470588, 0.98823529, 0.99215686, 0.73333333,\n",
       "        0.        , 0.        , 0.        , 0.        , 0.        ,\n",
       "        0.        , 0.        , 0.        ],\n",
       "       [0.        , 0.        , 0.        , 0.        , 0.        ,\n",
       "        0.        , 0.        , 0.        , 0.        , 0.        ,\n",
       "        0.        , 0.        , 0.        , 0.        , 0.        ,\n",
       "        0.        , 0.        , 0.97647059, 0.99215686, 0.97647059,\n",
       "        0.25098039, 0.        , 0.        , 0.        , 0.        ,\n",
       "        0.        , 0.        , 0.        ],\n",
       "       [0.        , 0.        , 0.        , 0.        , 0.        ,\n",
       "        0.        , 0.        , 0.        , 0.        , 0.        ,\n",
       "        0.        , 0.        , 0.        , 0.        , 0.18039216,\n",
       "        0.50980392, 0.71764706, 0.99215686, 0.99215686, 0.81176471,\n",
       "        0.00784314, 0.        , 0.        , 0.        , 0.        ,\n",
       "        0.        , 0.        , 0.        ],\n",
       "       [0.        , 0.        , 0.        , 0.        , 0.        ,\n",
       "        0.        , 0.        , 0.        , 0.        , 0.        ,\n",
       "        0.        , 0.        , 0.15294118, 0.58039216, 0.89803922,\n",
       "        0.99215686, 0.99215686, 0.99215686, 0.98039216, 0.71372549,\n",
       "        0.        , 0.        , 0.        , 0.        , 0.        ,\n",
       "        0.        , 0.        , 0.        ],\n",
       "       [0.        , 0.        , 0.        , 0.        , 0.        ,\n",
       "        0.        , 0.        , 0.        , 0.        , 0.        ,\n",
       "        0.09411765, 0.44705882, 0.86666667, 0.99215686, 0.99215686,\n",
       "        0.99215686, 0.99215686, 0.78823529, 0.30588235, 0.        ,\n",
       "        0.        , 0.        , 0.        , 0.        , 0.        ,\n",
       "        0.        , 0.        , 0.        ],\n",
       "       [0.        , 0.        , 0.        , 0.        , 0.        ,\n",
       "        0.        , 0.        , 0.        , 0.09019608, 0.25882353,\n",
       "        0.83529412, 0.99215686, 0.99215686, 0.99215686, 0.99215686,\n",
       "        0.77647059, 0.31764706, 0.00784314, 0.        , 0.        ,\n",
       "        0.        , 0.        , 0.        , 0.        , 0.        ,\n",
       "        0.        , 0.        , 0.        ],\n",
       "       [0.        , 0.        , 0.        , 0.        , 0.        ,\n",
       "        0.        , 0.07058824, 0.67058824, 0.85882353, 0.99215686,\n",
       "        0.99215686, 0.99215686, 0.99215686, 0.76470588, 0.31372549,\n",
       "        0.03529412, 0.        , 0.        , 0.        , 0.        ,\n",
       "        0.        , 0.        , 0.        , 0.        , 0.        ,\n",
       "        0.        , 0.        , 0.        ],\n",
       "       [0.        , 0.        , 0.        , 0.        , 0.21568627,\n",
       "        0.6745098 , 0.88627451, 0.99215686, 0.99215686, 0.99215686,\n",
       "        0.99215686, 0.95686275, 0.52156863, 0.04313725, 0.        ,\n",
       "        0.        , 0.        , 0.        , 0.        , 0.        ,\n",
       "        0.        , 0.        , 0.        , 0.        , 0.        ,\n",
       "        0.        , 0.        , 0.        ],\n",
       "       [0.        , 0.        , 0.        , 0.        , 0.53333333,\n",
       "        0.99215686, 0.99215686, 0.99215686, 0.83137255, 0.52941176,\n",
       "        0.51764706, 0.0627451 , 0.        , 0.        , 0.        ,\n",
       "        0.        , 0.        , 0.        , 0.        , 0.        ,\n",
       "        0.        , 0.        , 0.        , 0.        , 0.        ,\n",
       "        0.        , 0.        , 0.        ],\n",
       "       [0.        , 0.        , 0.        , 0.        , 0.        ,\n",
       "        0.        , 0.        , 0.        , 0.        , 0.        ,\n",
       "        0.        , 0.        , 0.        , 0.        , 0.        ,\n",
       "        0.        , 0.        , 0.        , 0.        , 0.        ,\n",
       "        0.        , 0.        , 0.        , 0.        , 0.        ,\n",
       "        0.        , 0.        , 0.        ],\n",
       "       [0.        , 0.        , 0.        , 0.        , 0.        ,\n",
       "        0.        , 0.        , 0.        , 0.        , 0.        ,\n",
       "        0.        , 0.        , 0.        , 0.        , 0.        ,\n",
       "        0.        , 0.        , 0.        , 0.        , 0.        ,\n",
       "        0.        , 0.        , 0.        , 0.        , 0.        ,\n",
       "        0.        , 0.        , 0.        ],\n",
       "       [0.        , 0.        , 0.        , 0.        , 0.        ,\n",
       "        0.        , 0.        , 0.        , 0.        , 0.        ,\n",
       "        0.        , 0.        , 0.        , 0.        , 0.        ,\n",
       "        0.        , 0.        , 0.        , 0.        , 0.        ,\n",
       "        0.        , 0.        , 0.        , 0.        , 0.        ,\n",
       "        0.        , 0.        , 0.        ]])"
      ]
     },
<<<<<<< HEAD
     "execution_count": 11,
=======
     "execution_count": 37,
>>>>>>> 2e1b761dad5b9e26d2b8a452f9ff7fa1104c8b9f
     "metadata": {},
     "output_type": "execute_result"
    }
   ],
   "source": [
    "x_train[0]"
   ]
  },
  {
   "cell_type": "code",
<<<<<<< HEAD
   "execution_count": 12,
=======
   "execution_count": 38,
>>>>>>> 2e1b761dad5b9e26d2b8a452f9ff7fa1104c8b9f
   "id": "f6c8c9f2",
   "metadata": {},
   "outputs": [
    {
     "name": "stderr",
     "output_type": "stream",
     "text": [
      "C:\\Users\\lenovo\\AppData\\Roaming\\Python\\Python311\\site-packages\\keras\\src\\layers\\reshaping\\flatten.py:37: UserWarning: Do not pass an `input_shape`/`input_dim` argument to a layer. When using Sequential models, prefer using an `Input(shape)` object as the first layer in the model instead.\n",
      "  super().__init__(**kwargs)\n"
     ]
    }
   ],
   "source": [
    "model=Sequential()\n",
    "\n",
    "model.add(Flatten(input_shape=(28,28)))\n",
    "model.add(Dense(128,activation='relu'))\n",
    "model.add(Dense(32,activation='relu'))\n",
    "model.add(Dense(10,activation='softmax'))"
   ]
  },
  {
   "cell_type": "code",
<<<<<<< HEAD
   "execution_count": 13,
=======
   "execution_count": 39,
>>>>>>> 2e1b761dad5b9e26d2b8a452f9ff7fa1104c8b9f
   "id": "fb0d26a3",
   "metadata": {},
   "outputs": [
    {
     "data": {
      "text/html": [
<<<<<<< HEAD
       "<pre style=\"white-space:pre;overflow-x:auto;line-height:normal;font-family:Menlo,'DejaVu Sans Mono',consolas,'Courier New',monospace\"><span style=\"font-weight: bold\">Model: \"sequential\"</span>\n",
       "</pre>\n"
      ],
      "text/plain": [
       "\u001b[1mModel: \"sequential\"\u001b[0m\n"
=======
       "<pre style=\"white-space:pre;overflow-x:auto;line-height:normal;font-family:Menlo,'DejaVu Sans Mono',consolas,'Courier New',monospace\"><span style=\"font-weight: bold\">Model: \"sequential_1\"</span>\n",
       "</pre>\n"
      ],
      "text/plain": [
       "\u001b[1mModel: \"sequential_1\"\u001b[0m\n"
>>>>>>> 2e1b761dad5b9e26d2b8a452f9ff7fa1104c8b9f
      ]
     },
     "metadata": {},
     "output_type": "display_data"
    },
    {
     "data": {
      "text/html": [
       "<pre style=\"white-space:pre;overflow-x:auto;line-height:normal;font-family:Menlo,'DejaVu Sans Mono',consolas,'Courier New',monospace\">┏━━━━━━━━━━━━━━━━━━━━━━━━━━━━━━━━━┳━━━━━━━━━━━━━━━━━━━━━━━━┳━━━━━━━━━━━━━━━┓\n",
       "┃<span style=\"font-weight: bold\"> Layer (type)                    </span>┃<span style=\"font-weight: bold\"> Output Shape           </span>┃<span style=\"font-weight: bold\">       Param # </span>┃\n",
       "┡━━━━━━━━━━━━━━━━━━━━━━━━━━━━━━━━━╇━━━━━━━━━━━━━━━━━━━━━━━━╇━━━━━━━━━━━━━━━┩\n",
<<<<<<< HEAD
       "│ flatten (<span style=\"color: #0087ff; text-decoration-color: #0087ff\">Flatten</span>)               │ (<span style=\"color: #00d7ff; text-decoration-color: #00d7ff\">None</span>, <span style=\"color: #00af00; text-decoration-color: #00af00\">784</span>)            │             <span style=\"color: #00af00; text-decoration-color: #00af00\">0</span> │\n",
       "├─────────────────────────────────┼────────────────────────┼───────────────┤\n",
       "│ dense (<span style=\"color: #0087ff; text-decoration-color: #0087ff\">Dense</span>)                   │ (<span style=\"color: #00d7ff; text-decoration-color: #00d7ff\">None</span>, <span style=\"color: #00af00; text-decoration-color: #00af00\">128</span>)            │       <span style=\"color: #00af00; text-decoration-color: #00af00\">100,480</span> │\n",
       "├─────────────────────────────────┼────────────────────────┼───────────────┤\n",
       "│ dense_1 (<span style=\"color: #0087ff; text-decoration-color: #0087ff\">Dense</span>)                 │ (<span style=\"color: #00d7ff; text-decoration-color: #00d7ff\">None</span>, <span style=\"color: #00af00; text-decoration-color: #00af00\">32</span>)             │         <span style=\"color: #00af00; text-decoration-color: #00af00\">4,128</span> │\n",
       "├─────────────────────────────────┼────────────────────────┼───────────────┤\n",
       "│ dense_2 (<span style=\"color: #0087ff; text-decoration-color: #0087ff\">Dense</span>)                 │ (<span style=\"color: #00d7ff; text-decoration-color: #00d7ff\">None</span>, <span style=\"color: #00af00; text-decoration-color: #00af00\">10</span>)             │           <span style=\"color: #00af00; text-decoration-color: #00af00\">330</span> │\n",
=======
       "│ flatten_1 (<span style=\"color: #0087ff; text-decoration-color: #0087ff\">Flatten</span>)             │ (<span style=\"color: #00d7ff; text-decoration-color: #00d7ff\">None</span>, <span style=\"color: #00af00; text-decoration-color: #00af00\">784</span>)            │             <span style=\"color: #00af00; text-decoration-color: #00af00\">0</span> │\n",
       "├─────────────────────────────────┼────────────────────────┼───────────────┤\n",
       "│ dense_3 (<span style=\"color: #0087ff; text-decoration-color: #0087ff\">Dense</span>)                 │ (<span style=\"color: #00d7ff; text-decoration-color: #00d7ff\">None</span>, <span style=\"color: #00af00; text-decoration-color: #00af00\">128</span>)            │       <span style=\"color: #00af00; text-decoration-color: #00af00\">100,480</span> │\n",
       "├─────────────────────────────────┼────────────────────────┼───────────────┤\n",
       "│ dense_4 (<span style=\"color: #0087ff; text-decoration-color: #0087ff\">Dense</span>)                 │ (<span style=\"color: #00d7ff; text-decoration-color: #00d7ff\">None</span>, <span style=\"color: #00af00; text-decoration-color: #00af00\">32</span>)             │         <span style=\"color: #00af00; text-decoration-color: #00af00\">4,128</span> │\n",
       "├─────────────────────────────────┼────────────────────────┼───────────────┤\n",
       "│ dense_5 (<span style=\"color: #0087ff; text-decoration-color: #0087ff\">Dense</span>)                 │ (<span style=\"color: #00d7ff; text-decoration-color: #00d7ff\">None</span>, <span style=\"color: #00af00; text-decoration-color: #00af00\">10</span>)             │           <span style=\"color: #00af00; text-decoration-color: #00af00\">330</span> │\n",
>>>>>>> 2e1b761dad5b9e26d2b8a452f9ff7fa1104c8b9f
       "└─────────────────────────────────┴────────────────────────┴───────────────┘\n",
       "</pre>\n"
      ],
      "text/plain": [
       "┏━━━━━━━━━━━━━━━━━━━━━━━━━━━━━━━━━┳━━━━━━━━━━━━━━━━━━━━━━━━┳━━━━━━━━━━━━━━━┓\n",
       "┃\u001b[1m \u001b[0m\u001b[1mLayer (type)                   \u001b[0m\u001b[1m \u001b[0m┃\u001b[1m \u001b[0m\u001b[1mOutput Shape          \u001b[0m\u001b[1m \u001b[0m┃\u001b[1m \u001b[0m\u001b[1m      Param #\u001b[0m\u001b[1m \u001b[0m┃\n",
       "┡━━━━━━━━━━━━━━━━━━━━━━━━━━━━━━━━━╇━━━━━━━━━━━━━━━━━━━━━━━━╇━━━━━━━━━━━━━━━┩\n",
<<<<<<< HEAD
       "│ flatten (\u001b[38;5;33mFlatten\u001b[0m)               │ (\u001b[38;5;45mNone\u001b[0m, \u001b[38;5;34m784\u001b[0m)            │             \u001b[38;5;34m0\u001b[0m │\n",
       "├─────────────────────────────────┼────────────────────────┼───────────────┤\n",
       "│ dense (\u001b[38;5;33mDense\u001b[0m)                   │ (\u001b[38;5;45mNone\u001b[0m, \u001b[38;5;34m128\u001b[0m)            │       \u001b[38;5;34m100,480\u001b[0m │\n",
       "├─────────────────────────────────┼────────────────────────┼───────────────┤\n",
       "│ dense_1 (\u001b[38;5;33mDense\u001b[0m)                 │ (\u001b[38;5;45mNone\u001b[0m, \u001b[38;5;34m32\u001b[0m)             │         \u001b[38;5;34m4,128\u001b[0m │\n",
       "├─────────────────────────────────┼────────────────────────┼───────────────┤\n",
       "│ dense_2 (\u001b[38;5;33mDense\u001b[0m)                 │ (\u001b[38;5;45mNone\u001b[0m, \u001b[38;5;34m10\u001b[0m)             │           \u001b[38;5;34m330\u001b[0m │\n",
=======
       "│ flatten_1 (\u001b[38;5;33mFlatten\u001b[0m)             │ (\u001b[38;5;45mNone\u001b[0m, \u001b[38;5;34m784\u001b[0m)            │             \u001b[38;5;34m0\u001b[0m │\n",
       "├─────────────────────────────────┼────────────────────────┼───────────────┤\n",
       "│ dense_3 (\u001b[38;5;33mDense\u001b[0m)                 │ (\u001b[38;5;45mNone\u001b[0m, \u001b[38;5;34m128\u001b[0m)            │       \u001b[38;5;34m100,480\u001b[0m │\n",
       "├─────────────────────────────────┼────────────────────────┼───────────────┤\n",
       "│ dense_4 (\u001b[38;5;33mDense\u001b[0m)                 │ (\u001b[38;5;45mNone\u001b[0m, \u001b[38;5;34m32\u001b[0m)             │         \u001b[38;5;34m4,128\u001b[0m │\n",
       "├─────────────────────────────────┼────────────────────────┼───────────────┤\n",
       "│ dense_5 (\u001b[38;5;33mDense\u001b[0m)                 │ (\u001b[38;5;45mNone\u001b[0m, \u001b[38;5;34m10\u001b[0m)             │           \u001b[38;5;34m330\u001b[0m │\n",
>>>>>>> 2e1b761dad5b9e26d2b8a452f9ff7fa1104c8b9f
       "└─────────────────────────────────┴────────────────────────┴───────────────┘\n"
      ]
     },
     "metadata": {},
     "output_type": "display_data"
    },
    {
     "data": {
      "text/html": [
       "<pre style=\"white-space:pre;overflow-x:auto;line-height:normal;font-family:Menlo,'DejaVu Sans Mono',consolas,'Courier New',monospace\"><span style=\"font-weight: bold\"> Total params: </span><span style=\"color: #00af00; text-decoration-color: #00af00\">104,938</span> (409.91 KB)\n",
       "</pre>\n"
      ],
      "text/plain": [
       "\u001b[1m Total params: \u001b[0m\u001b[38;5;34m104,938\u001b[0m (409.91 KB)\n"
      ]
     },
     "metadata": {},
     "output_type": "display_data"
    },
    {
     "data": {
      "text/html": [
       "<pre style=\"white-space:pre;overflow-x:auto;line-height:normal;font-family:Menlo,'DejaVu Sans Mono',consolas,'Courier New',monospace\"><span style=\"font-weight: bold\"> Trainable params: </span><span style=\"color: #00af00; text-decoration-color: #00af00\">104,938</span> (409.91 KB)\n",
       "</pre>\n"
      ],
      "text/plain": [
       "\u001b[1m Trainable params: \u001b[0m\u001b[38;5;34m104,938\u001b[0m (409.91 KB)\n"
      ]
     },
     "metadata": {},
     "output_type": "display_data"
    },
    {
     "data": {
      "text/html": [
       "<pre style=\"white-space:pre;overflow-x:auto;line-height:normal;font-family:Menlo,'DejaVu Sans Mono',consolas,'Courier New',monospace\"><span style=\"font-weight: bold\"> Non-trainable params: </span><span style=\"color: #00af00; text-decoration-color: #00af00\">0</span> (0.00 B)\n",
       "</pre>\n"
      ],
      "text/plain": [
       "\u001b[1m Non-trainable params: \u001b[0m\u001b[38;5;34m0\u001b[0m (0.00 B)\n"
      ]
     },
     "metadata": {},
     "output_type": "display_data"
    }
   ],
   "source": [
    "model.summary()"
   ]
  },
  {
   "cell_type": "code",
<<<<<<< HEAD
   "execution_count": 14,
=======
   "execution_count": 40,
>>>>>>> 2e1b761dad5b9e26d2b8a452f9ff7fa1104c8b9f
   "id": "97a79e14",
   "metadata": {},
   "outputs": [],
   "source": [
    "model.compile(loss='sparse_categorical_crossentropy',optimizer='Adam',metrics=['accuracy'])"
   ]
  },
  {
   "cell_type": "code",
<<<<<<< HEAD
   "execution_count": 15,
=======
   "execution_count": 41,
>>>>>>> 2e1b761dad5b9e26d2b8a452f9ff7fa1104c8b9f
   "id": "65b0bc9c",
   "metadata": {},
   "outputs": [
    {
     "name": "stdout",
     "output_type": "stream",
     "text": [
      "Epoch 1/25\n",
<<<<<<< HEAD
      "\u001b[1m1500/1500\u001b[0m \u001b[32m━━━━━━━━━━━━━━━━━━━━\u001b[0m\u001b[37m\u001b[0m \u001b[1m6s\u001b[0m 3ms/step - accuracy: 0.8552 - loss: 0.4948 - val_accuracy: 0.9599 - val_loss: 0.1446\n",
      "Epoch 2/25\n",
      "\u001b[1m1500/1500\u001b[0m \u001b[32m━━━━━━━━━━━━━━━━━━━━\u001b[0m\u001b[37m\u001b[0m \u001b[1m5s\u001b[0m 3ms/step - accuracy: 0.9662 - loss: 0.1190 - val_accuracy: 0.9695 - val_loss: 0.1050\n",
      "Epoch 3/25\n",
      "\u001b[1m1500/1500\u001b[0m \u001b[32m━━━━━━━━━━━━━━━━━━━━\u001b[0m\u001b[37m\u001b[0m \u001b[1m5s\u001b[0m 3ms/step - accuracy: 0.9748 - loss: 0.0811 - val_accuracy: 0.9722 - val_loss: 0.0964\n",
      "Epoch 4/25\n",
      "\u001b[1m1500/1500\u001b[0m \u001b[32m━━━━━━━━━━━━━━━━━━━━\u001b[0m\u001b[37m\u001b[0m \u001b[1m4s\u001b[0m 3ms/step - accuracy: 0.9812 - loss: 0.0605 - val_accuracy: 0.9718 - val_loss: 0.0987\n",
      "Epoch 5/25\n",
      "\u001b[1m1500/1500\u001b[0m \u001b[32m━━━━━━━━━━━━━━━━━━━━\u001b[0m\u001b[37m\u001b[0m \u001b[1m4s\u001b[0m 3ms/step - accuracy: 0.9849 - loss: 0.0472 - val_accuracy: 0.9720 - val_loss: 0.0962\n",
      "Epoch 6/25\n",
      "\u001b[1m1500/1500\u001b[0m \u001b[32m━━━━━━━━━━━━━━━━━━━━\u001b[0m\u001b[37m\u001b[0m \u001b[1m5s\u001b[0m 3ms/step - accuracy: 0.9883 - loss: 0.0359 - val_accuracy: 0.9712 - val_loss: 0.1068\n",
      "Epoch 7/25\n",
      "\u001b[1m1500/1500\u001b[0m \u001b[32m━━━━━━━━━━━━━━━━━━━━\u001b[0m\u001b[37m\u001b[0m \u001b[1m5s\u001b[0m 3ms/step - accuracy: 0.9920 - loss: 0.0268 - val_accuracy: 0.9733 - val_loss: 0.0989\n",
      "Epoch 8/25\n",
      "\u001b[1m1500/1500\u001b[0m \u001b[32m━━━━━━━━━━━━━━━━━━━━\u001b[0m\u001b[37m\u001b[0m \u001b[1m5s\u001b[0m 3ms/step - accuracy: 0.9932 - loss: 0.0213 - val_accuracy: 0.9716 - val_loss: 0.1098\n",
      "Epoch 9/25\n",
      "\u001b[1m1500/1500\u001b[0m \u001b[32m━━━━━━━━━━━━━━━━━━━━\u001b[0m\u001b[37m\u001b[0m \u001b[1m5s\u001b[0m 3ms/step - accuracy: 0.9932 - loss: 0.0203 - val_accuracy: 0.9708 - val_loss: 0.1212\n",
      "Epoch 10/25\n",
      "\u001b[1m1500/1500\u001b[0m \u001b[32m━━━━━━━━━━━━━━━━━━━━\u001b[0m\u001b[37m\u001b[0m \u001b[1m4s\u001b[0m 3ms/step - accuracy: 0.9937 - loss: 0.0186 - val_accuracy: 0.9696 - val_loss: 0.1299\n",
      "Epoch 11/25\n",
      "\u001b[1m1500/1500\u001b[0m \u001b[32m━━━━━━━━━━━━━━━━━━━━\u001b[0m\u001b[37m\u001b[0m \u001b[1m5s\u001b[0m 3ms/step - accuracy: 0.9953 - loss: 0.0143 - val_accuracy: 0.9732 - val_loss: 0.1264\n",
      "Epoch 12/25\n",
      "\u001b[1m1500/1500\u001b[0m \u001b[32m━━━━━━━━━━━━━━━━━━━━\u001b[0m\u001b[37m\u001b[0m \u001b[1m5s\u001b[0m 3ms/step - accuracy: 0.9955 - loss: 0.0143 - val_accuracy: 0.9731 - val_loss: 0.1271\n",
      "Epoch 13/25\n",
      "\u001b[1m1500/1500\u001b[0m \u001b[32m━━━━━━━━━━━━━━━━━━━━\u001b[0m\u001b[37m\u001b[0m \u001b[1m4s\u001b[0m 2ms/step - accuracy: 0.9961 - loss: 0.0118 - val_accuracy: 0.9698 - val_loss: 0.1484\n",
      "Epoch 14/25\n",
      "\u001b[1m1500/1500\u001b[0m \u001b[32m━━━━━━━━━━━━━━━━━━━━\u001b[0m\u001b[37m\u001b[0m \u001b[1m4s\u001b[0m 3ms/step - accuracy: 0.9953 - loss: 0.0145 - val_accuracy: 0.9767 - val_loss: 0.1201\n",
      "Epoch 15/25\n",
      "\u001b[1m1500/1500\u001b[0m \u001b[32m━━━━━━━━━━━━━━━━━━━━\u001b[0m\u001b[37m\u001b[0m \u001b[1m4s\u001b[0m 3ms/step - accuracy: 0.9961 - loss: 0.0109 - val_accuracy: 0.9716 - val_loss: 0.1371\n",
      "Epoch 16/25\n",
      "\u001b[1m1500/1500\u001b[0m \u001b[32m━━━━━━━━━━━━━━━━━━━━\u001b[0m\u001b[37m\u001b[0m \u001b[1m4s\u001b[0m 3ms/step - accuracy: 0.9967 - loss: 0.0103 - val_accuracy: 0.9743 - val_loss: 0.1418\n",
      "Epoch 17/25\n",
      "\u001b[1m1500/1500\u001b[0m \u001b[32m━━━━━━━━━━━━━━━━━━━━\u001b[0m\u001b[37m\u001b[0m \u001b[1m5s\u001b[0m 3ms/step - accuracy: 0.9967 - loss: 0.0108 - val_accuracy: 0.9745 - val_loss: 0.1449\n",
      "Epoch 18/25\n",
      "\u001b[1m1500/1500\u001b[0m \u001b[32m━━━━━━━━━━━━━━━━━━━━\u001b[0m\u001b[37m\u001b[0m \u001b[1m6s\u001b[0m 4ms/step - accuracy: 0.9964 - loss: 0.0105 - val_accuracy: 0.9754 - val_loss: 0.1327\n",
      "Epoch 19/25\n",
      "\u001b[1m1500/1500\u001b[0m \u001b[32m━━━━━━━━━━━━━━━━━━━━\u001b[0m\u001b[37m\u001b[0m \u001b[1m4s\u001b[0m 3ms/step - accuracy: 0.9978 - loss: 0.0065 - val_accuracy: 0.9756 - val_loss: 0.1542\n",
      "Epoch 20/25\n",
      "\u001b[1m1500/1500\u001b[0m \u001b[32m━━━━━━━━━━━━━━━━━━━━\u001b[0m\u001b[37m\u001b[0m \u001b[1m4s\u001b[0m 3ms/step - accuracy: 0.9972 - loss: 0.0079 - val_accuracy: 0.9758 - val_loss: 0.1423\n",
      "Epoch 21/25\n",
      "\u001b[1m1500/1500\u001b[0m \u001b[32m━━━━━━━━━━━━━━━━━━━━\u001b[0m\u001b[37m\u001b[0m \u001b[1m4s\u001b[0m 3ms/step - accuracy: 0.9975 - loss: 0.0075 - val_accuracy: 0.9756 - val_loss: 0.1533\n",
      "Epoch 22/25\n",
      "\u001b[1m1500/1500\u001b[0m \u001b[32m━━━━━━━━━━━━━━━━━━━━\u001b[0m\u001b[37m\u001b[0m \u001b[1m4s\u001b[0m 3ms/step - accuracy: 0.9973 - loss: 0.0078 - val_accuracy: 0.9753 - val_loss: 0.1607\n",
      "Epoch 23/25\n",
      "\u001b[1m1500/1500\u001b[0m \u001b[32m━━━━━━━━━━━━━━━━━━━━\u001b[0m\u001b[37m\u001b[0m \u001b[1m4s\u001b[0m 3ms/step - accuracy: 0.9987 - loss: 0.0043 - val_accuracy: 0.9722 - val_loss: 0.1685\n",
      "Epoch 24/25\n",
      "\u001b[1m1500/1500\u001b[0m \u001b[32m━━━━━━━━━━━━━━━━━━━━\u001b[0m\u001b[37m\u001b[0m \u001b[1m4s\u001b[0m 3ms/step - accuracy: 0.9977 - loss: 0.0070 - val_accuracy: 0.9745 - val_loss: 0.1609\n",
      "Epoch 25/25\n",
      "\u001b[1m1500/1500\u001b[0m \u001b[32m━━━━━━━━━━━━━━━━━━━━\u001b[0m\u001b[37m\u001b[0m \u001b[1m5s\u001b[0m 3ms/step - accuracy: 0.9979 - loss: 0.0068 - val_accuracy: 0.9787 - val_loss: 0.1469\n"
=======
      "\u001b[1m1500/1500\u001b[0m \u001b[32m━━━━━━━━━━━━━━━━━━━━\u001b[0m\u001b[37m\u001b[0m \u001b[1m5s\u001b[0m 3ms/step - accuracy: 0.8577 - loss: 0.4842 - val_accuracy: 0.9516 - val_loss: 0.1588\n",
      "Epoch 2/25\n",
      "\u001b[1m1500/1500\u001b[0m \u001b[32m━━━━━━━━━━━━━━━━━━━━\u001b[0m\u001b[37m\u001b[0m \u001b[1m3s\u001b[0m 2ms/step - accuracy: 0.9635 - loss: 0.1251 - val_accuracy: 0.9656 - val_loss: 0.1131\n",
      "Epoch 3/25\n",
      "\u001b[1m1500/1500\u001b[0m \u001b[32m━━━━━━━━━━━━━━━━━━━━\u001b[0m\u001b[37m\u001b[0m \u001b[1m4s\u001b[0m 2ms/step - accuracy: 0.9741 - loss: 0.0855 - val_accuracy: 0.9714 - val_loss: 0.0980\n",
      "Epoch 4/25\n",
      "\u001b[1m1500/1500\u001b[0m \u001b[32m━━━━━━━━━━━━━━━━━━━━\u001b[0m\u001b[37m\u001b[0m \u001b[1m4s\u001b[0m 3ms/step - accuracy: 0.9808 - loss: 0.0622 - val_accuracy: 0.9703 - val_loss: 0.1032\n",
      "Epoch 5/25\n",
      "\u001b[1m1500/1500\u001b[0m \u001b[32m━━━━━━━━━━━━━━━━━━━━\u001b[0m\u001b[37m\u001b[0m \u001b[1m13s\u001b[0m 8ms/step - accuracy: 0.9851 - loss: 0.0456 - val_accuracy: 0.9737 - val_loss: 0.0900\n",
      "Epoch 6/25\n",
      "\u001b[1m1500/1500\u001b[0m \u001b[32m━━━━━━━━━━━━━━━━━━━━\u001b[0m\u001b[37m\u001b[0m \u001b[1m11s\u001b[0m 7ms/step - accuracy: 0.9898 - loss: 0.0327 - val_accuracy: 0.9735 - val_loss: 0.0968\n",
      "Epoch 7/25\n",
      "\u001b[1m1500/1500\u001b[0m \u001b[32m━━━━━━━━━━━━━━━━━━━━\u001b[0m\u001b[37m\u001b[0m \u001b[1m10s\u001b[0m 7ms/step - accuracy: 0.9911 - loss: 0.0286 - val_accuracy: 0.9727 - val_loss: 0.0976\n",
      "Epoch 8/25\n",
      "\u001b[1m1500/1500\u001b[0m \u001b[32m━━━━━━━━━━━━━━━━━━━━\u001b[0m\u001b[37m\u001b[0m \u001b[1m10s\u001b[0m 6ms/step - accuracy: 0.9924 - loss: 0.0242 - val_accuracy: 0.9733 - val_loss: 0.1060\n",
      "Epoch 9/25\n",
      "\u001b[1m1500/1500\u001b[0m \u001b[32m━━━━━━━━━━━━━━━━━━━━\u001b[0m\u001b[37m\u001b[0m \u001b[1m10s\u001b[0m 6ms/step - accuracy: 0.9927 - loss: 0.0207 - val_accuracy: 0.9718 - val_loss: 0.1201\n",
      "Epoch 10/25\n",
      "\u001b[1m1500/1500\u001b[0m \u001b[32m━━━━━━━━━━━━━━━━━━━━\u001b[0m\u001b[37m\u001b[0m \u001b[1m10s\u001b[0m 7ms/step - accuracy: 0.9947 - loss: 0.0172 - val_accuracy: 0.9724 - val_loss: 0.1142\n",
      "Epoch 11/25\n",
      "\u001b[1m1500/1500\u001b[0m \u001b[32m━━━━━━━━━━━━━━━━━━━━\u001b[0m\u001b[37m\u001b[0m \u001b[1m10s\u001b[0m 6ms/step - accuracy: 0.9951 - loss: 0.0159 - val_accuracy: 0.9760 - val_loss: 0.1104\n",
      "Epoch 12/25\n",
      "\u001b[1m1500/1500\u001b[0m \u001b[32m━━━━━━━━━━━━━━━━━━━━\u001b[0m\u001b[37m\u001b[0m \u001b[1m10s\u001b[0m 7ms/step - accuracy: 0.9956 - loss: 0.0134 - val_accuracy: 0.9727 - val_loss: 0.1266\n",
      "Epoch 13/25\n",
      "\u001b[1m1500/1500\u001b[0m \u001b[32m━━━━━━━━━━━━━━━━━━━━\u001b[0m\u001b[37m\u001b[0m \u001b[1m11s\u001b[0m 7ms/step - accuracy: 0.9959 - loss: 0.0130 - val_accuracy: 0.9748 - val_loss: 0.1235\n",
      "Epoch 14/25\n",
      "\u001b[1m1500/1500\u001b[0m \u001b[32m━━━━━━━━━━━━━━━━━━━━\u001b[0m\u001b[37m\u001b[0m \u001b[1m4s\u001b[0m 3ms/step - accuracy: 0.9966 - loss: 0.0112 - val_accuracy: 0.9767 - val_loss: 0.1182\n",
      "Epoch 15/25\n",
      "\u001b[1m1500/1500\u001b[0m \u001b[32m━━━━━━━━━━━━━━━━━━━━\u001b[0m\u001b[37m\u001b[0m \u001b[1m4s\u001b[0m 3ms/step - accuracy: 0.9968 - loss: 0.0105 - val_accuracy: 0.9750 - val_loss: 0.1309\n",
      "Epoch 16/25\n",
      "\u001b[1m1500/1500\u001b[0m \u001b[32m━━━━━━━━━━━━━━━━━━━━\u001b[0m\u001b[37m\u001b[0m \u001b[1m5s\u001b[0m 3ms/step - accuracy: 0.9963 - loss: 0.0105 - val_accuracy: 0.9759 - val_loss: 0.1431\n",
      "Epoch 17/25\n",
      "\u001b[1m1500/1500\u001b[0m \u001b[32m━━━━━━━━━━━━━━━━━━━━\u001b[0m\u001b[37m\u001b[0m \u001b[1m4s\u001b[0m 3ms/step - accuracy: 0.9969 - loss: 0.0086 - val_accuracy: 0.9746 - val_loss: 0.1335\n",
      "Epoch 18/25\n",
      "\u001b[1m1500/1500\u001b[0m \u001b[32m━━━━━━━━━━━━━━━━━━━━\u001b[0m\u001b[37m\u001b[0m \u001b[1m4s\u001b[0m 3ms/step - accuracy: 0.9975 - loss: 0.0082 - val_accuracy: 0.9759 - val_loss: 0.1399\n",
      "Epoch 19/25\n",
      "\u001b[1m1500/1500\u001b[0m \u001b[32m━━━━━━━━━━━━━━━━━━━━\u001b[0m\u001b[37m\u001b[0m \u001b[1m4s\u001b[0m 3ms/step - accuracy: 0.9967 - loss: 0.0105 - val_accuracy: 0.9740 - val_loss: 0.1457\n",
      "Epoch 20/25\n",
      "\u001b[1m1500/1500\u001b[0m \u001b[32m━━━━━━━━━━━━━━━━━━━━\u001b[0m\u001b[37m\u001b[0m \u001b[1m4s\u001b[0m 2ms/step - accuracy: 0.9974 - loss: 0.0085 - val_accuracy: 0.9742 - val_loss: 0.1530\n",
      "Epoch 21/25\n",
      "\u001b[1m1500/1500\u001b[0m \u001b[32m━━━━━━━━━━━━━━━━━━━━\u001b[0m\u001b[37m\u001b[0m \u001b[1m4s\u001b[0m 2ms/step - accuracy: 0.9970 - loss: 0.0095 - val_accuracy: 0.9764 - val_loss: 0.1432\n",
      "Epoch 22/25\n",
      "\u001b[1m1500/1500\u001b[0m \u001b[32m━━━━━━━━━━━━━━━━━━━━\u001b[0m\u001b[37m\u001b[0m \u001b[1m4s\u001b[0m 2ms/step - accuracy: 0.9985 - loss: 0.0047 - val_accuracy: 0.9737 - val_loss: 0.1589\n",
      "Epoch 23/25\n",
      "\u001b[1m1500/1500\u001b[0m \u001b[32m━━━━━━━━━━━━━━━━━━━━\u001b[0m\u001b[37m\u001b[0m \u001b[1m3s\u001b[0m 2ms/step - accuracy: 0.9970 - loss: 0.0091 - val_accuracy: 0.9758 - val_loss: 0.1435\n",
      "Epoch 24/25\n",
      "\u001b[1m1500/1500\u001b[0m \u001b[32m━━━━━━━━━━━━━━━━━━━━\u001b[0m\u001b[37m\u001b[0m \u001b[1m8s\u001b[0m 5ms/step - accuracy: 0.9983 - loss: 0.0051 - val_accuracy: 0.9708 - val_loss: 0.1811\n",
      "Epoch 25/25\n",
      "\u001b[1m1500/1500\u001b[0m \u001b[32m━━━━━━━━━━━━━━━━━━━━\u001b[0m\u001b[37m\u001b[0m \u001b[1m8s\u001b[0m 5ms/step - accuracy: 0.9965 - loss: 0.0092 - val_accuracy: 0.9728 - val_loss: 0.1645\n"
>>>>>>> 2e1b761dad5b9e26d2b8a452f9ff7fa1104c8b9f
     ]
    }
   ],
   "source": [
    "history=model.fit(x_train,y_train,epochs=25,validation_split=0.2)"
   ]
  },
  {
   "cell_type": "code",
<<<<<<< HEAD
   "execution_count": 16,
=======
   "execution_count": 42,
>>>>>>> 2e1b761dad5b9e26d2b8a452f9ff7fa1104c8b9f
   "id": "1989c308",
   "metadata": {},
   "outputs": [
    {
     "name": "stdout",
     "output_type": "stream",
     "text": [
<<<<<<< HEAD
      "\u001b[1m313/313\u001b[0m \u001b[32m━━━━━━━━━━━━━━━━━━━━\u001b[0m\u001b[37m\u001b[0m \u001b[1m1s\u001b[0m 1ms/step\n"
=======
      "\u001b[1m313/313\u001b[0m \u001b[32m━━━━━━━━━━━━━━━━━━━━\u001b[0m\u001b[37m\u001b[0m \u001b[1m0s\u001b[0m 1ms/step\n"
>>>>>>> 2e1b761dad5b9e26d2b8a452f9ff7fa1104c8b9f
     ]
    }
   ],
   "source": [
    "y_prob=model.predict(x_test)"
   ]
  },
  {
   "cell_type": "code",
<<<<<<< HEAD
   "execution_count": 17,
=======
   "execution_count": 43,
>>>>>>> 2e1b761dad5b9e26d2b8a452f9ff7fa1104c8b9f
   "id": "1be58ea2",
   "metadata": {},
   "outputs": [],
   "source": [
    "y_pred=y_prob.argmax(axis=1)"
   ]
  },
  {
   "cell_type": "code",
<<<<<<< HEAD
   "execution_count": 18,
=======
   "execution_count": 44,
>>>>>>> 2e1b761dad5b9e26d2b8a452f9ff7fa1104c8b9f
   "id": "bcbf699c",
   "metadata": {},
   "outputs": [
    {
     "data": {
      "text/plain": [
<<<<<<< HEAD
       "0.9773"
      ]
     },
     "execution_count": 18,
=======
       "0.9733"
      ]
     },
     "execution_count": 44,
>>>>>>> 2e1b761dad5b9e26d2b8a452f9ff7fa1104c8b9f
     "metadata": {},
     "output_type": "execute_result"
    }
   ],
   "source": [
    "from sklearn.metrics import accuracy_score\n",
    "accuracy_score(y_test,y_pred)"
   ]
  },
  {
   "cell_type": "code",
<<<<<<< HEAD
   "execution_count": 19,
=======
   "execution_count": 45,
>>>>>>> 2e1b761dad5b9e26d2b8a452f9ff7fa1104c8b9f
   "id": "60523985",
   "metadata": {},
   "outputs": [
    {
     "data": {
      "text/plain": [
<<<<<<< HEAD
       "[<matplotlib.lines.Line2D at 0x1cb2ae61490>]"
      ]
     },
     "execution_count": 19,
=======
       "[<matplotlib.lines.Line2D at 0x2157a8072d0>]"
      ]
     },
     "execution_count": 45,
>>>>>>> 2e1b761dad5b9e26d2b8a452f9ff7fa1104c8b9f
     "metadata": {},
     "output_type": "execute_result"
    },
    {
     "data": {
<<<<<<< HEAD
      "image/png": "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",
=======
      "image/png": "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",
>>>>>>> 2e1b761dad5b9e26d2b8a452f9ff7fa1104c8b9f
      "text/plain": [
       "<Figure size 640x480 with 1 Axes>"
      ]
     },
     "metadata": {},
     "output_type": "display_data"
    }
   ],
   "source": [
    "plt.plot(history.history['loss'])\n",
    "plt.plot(history.history['val_loss'])"
   ]
  },
  {
   "cell_type": "code",
<<<<<<< HEAD
   "execution_count": 20,
=======
   "execution_count": 46,
>>>>>>> 2e1b761dad5b9e26d2b8a452f9ff7fa1104c8b9f
   "id": "cdaa75d6",
   "metadata": {},
   "outputs": [
    {
     "data": {
      "text/plain": [
<<<<<<< HEAD
       "[<matplotlib.lines.Line2D at 0x1cb48622a90>]"
      ]
     },
     "execution_count": 20,
=======
       "[<matplotlib.lines.Line2D at 0x2157a88f850>]"
      ]
     },
     "execution_count": 46,
>>>>>>> 2e1b761dad5b9e26d2b8a452f9ff7fa1104c8b9f
     "metadata": {},
     "output_type": "execute_result"
    },
    {
     "data": {
<<<<<<< HEAD
      "image/png": "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",
=======
      "image/png": "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",
>>>>>>> 2e1b761dad5b9e26d2b8a452f9ff7fa1104c8b9f
      "text/plain": [
       "<Figure size 640x480 with 1 Axes>"
      ]
     },
     "metadata": {},
     "output_type": "display_data"
    }
   ],
   "source": [
    "plt.plot(history.history['accuracy'])\n",
    "plt.plot(history.history['val_accuracy'])"
   ]
  },
  {
   "cell_type": "code",
<<<<<<< HEAD
   "execution_count": 21,
=======
   "execution_count": 47,
>>>>>>> 2e1b761dad5b9e26d2b8a452f9ff7fa1104c8b9f
   "id": "647c31e7",
   "metadata": {},
   "outputs": [
    {
     "data": {
      "text/plain": [
<<<<<<< HEAD
       "<matplotlib.image.AxesImage at 0x1cb4863c250>"
      ]
     },
     "execution_count": 21,
=======
       "<matplotlib.image.AxesImage at 0x2157aa47850>"
      ]
     },
     "execution_count": 47,
>>>>>>> 2e1b761dad5b9e26d2b8a452f9ff7fa1104c8b9f
     "metadata": {},
     "output_type": "execute_result"
    },
    {
     "data": {
      "image/png": "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",
      "text/plain": [
       "<Figure size 640x480 with 1 Axes>"
      ]
     },
     "metadata": {},
     "output_type": "display_data"
    }
   ],
   "source": [
    "plt.imshow(x_test[0])"
   ]
  },
  {
   "cell_type": "code",
<<<<<<< HEAD
   "execution_count": 22,
=======
   "execution_count": 48,
>>>>>>> 2e1b761dad5b9e26d2b8a452f9ff7fa1104c8b9f
   "id": "df8f8419",
   "metadata": {},
   "outputs": [
    {
     "name": "stdout",
     "output_type": "stream",
     "text": [
<<<<<<< HEAD
      "\u001b[1m1/1\u001b[0m \u001b[32m━━━━━━━━━━━━━━━━━━━━\u001b[0m\u001b[37m\u001b[0m \u001b[1m0s\u001b[0m 46ms/step\n"
=======
      "\u001b[1m1/1\u001b[0m \u001b[32m━━━━━━━━━━━━━━━━━━━━\u001b[0m\u001b[37m\u001b[0m \u001b[1m0s\u001b[0m 36ms/step\n"
>>>>>>> 2e1b761dad5b9e26d2b8a452f9ff7fa1104c8b9f
     ]
    },
    {
     "data": {
      "text/plain": [
       "array([7], dtype=int64)"
      ]
     },
<<<<<<< HEAD
     "execution_count": 22,
=======
     "execution_count": 48,
>>>>>>> 2e1b761dad5b9e26d2b8a452f9ff7fa1104c8b9f
     "metadata": {},
     "output_type": "execute_result"
    }
   ],
   "source": [
    "model.predict(x_test[0].reshape(1,28,28)).argmax(axis=1)"
   ]
  },
  {
   "cell_type": "code",
<<<<<<< HEAD
   "execution_count": 23,
=======
   "execution_count": 49,
>>>>>>> 2e1b761dad5b9e26d2b8a452f9ff7fa1104c8b9f
   "id": "f706922f",
   "metadata": {},
   "outputs": [
    {
     "data": {
      "text/plain": [
<<<<<<< HEAD
       "<matplotlib.image.AxesImage at 0x1cb2b16a450>"
      ]
     },
     "execution_count": 23,
=======
       "<matplotlib.image.AxesImage at 0x215770aa850>"
      ]
     },
     "execution_count": 49,
>>>>>>> 2e1b761dad5b9e26d2b8a452f9ff7fa1104c8b9f
     "metadata": {},
     "output_type": "execute_result"
    },
    {
     "data": {
      "image/png": "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",
      "text/plain": [
       "<Figure size 640x480 with 1 Axes>"
      ]
     },
     "metadata": {},
     "output_type": "display_data"
    }
   ],
   "source": [
    "plt.imshow(x_test[1])"
   ]
  },
  {
   "cell_type": "code",
<<<<<<< HEAD
   "execution_count": 24,
=======
   "execution_count": 50,
>>>>>>> 2e1b761dad5b9e26d2b8a452f9ff7fa1104c8b9f
   "id": "0cb3346d",
   "metadata": {},
   "outputs": [
    {
     "name": "stdout",
     "output_type": "stream",
     "text": [
<<<<<<< HEAD
      "\u001b[1m1/1\u001b[0m \u001b[32m━━━━━━━━━━━━━━━━━━━━\u001b[0m\u001b[37m\u001b[0m \u001b[1m0s\u001b[0m 57ms/step\n"
=======
      "\u001b[1m1/1\u001b[0m \u001b[32m━━━━━━━━━━━━━━━━━━━━\u001b[0m\u001b[37m\u001b[0m \u001b[1m0s\u001b[0m 34ms/step\n"
>>>>>>> 2e1b761dad5b9e26d2b8a452f9ff7fa1104c8b9f
     ]
    },
    {
     "data": {
      "text/plain": [
       "array([2], dtype=int64)"
      ]
     },
<<<<<<< HEAD
     "execution_count": 24,
=======
     "execution_count": 50,
>>>>>>> 2e1b761dad5b9e26d2b8a452f9ff7fa1104c8b9f
     "metadata": {},
     "output_type": "execute_result"
    }
   ],
   "source": [
    "model.predict(x_test[1].reshape(1,28,28)).argmax(axis=1)"
   ]
  },
  {
   "cell_type": "code",
<<<<<<< HEAD
   "execution_count": 25,
=======
   "execution_count": 51,
>>>>>>> 2e1b761dad5b9e26d2b8a452f9ff7fa1104c8b9f
   "id": "6046d5c2",
   "metadata": {},
   "outputs": [
    {
     "name": "stderr",
     "output_type": "stream",
     "text": [
      "WARNING:absl:You are saving your model as an HDF5 file via `model.save()` or `keras.saving.save_model(model)`. This file format is considered legacy. We recommend using instead the native Keras format, e.g. `model.save('my_model.keras')` or `keras.saving.save_model(model, 'my_model.keras')`. \n"
     ]
    }
   ],
   "source": [
    "model.save(\"mnist_model.h5\")"
   ]
  }
 ],
 "metadata": {
  "kernelspec": {
   "display_name": "Python 3",
   "language": "python",
   "name": "python3"
  },
  "language_info": {
   "codemirror_mode": {
    "name": "ipython",
    "version": 3
   },
   "file_extension": ".py",
   "mimetype": "text/x-python",
   "name": "python",
   "nbconvert_exporter": "python",
   "pygments_lexer": "ipython3",
   "version": "3.11.3"
  }
 },
 "nbformat": 4,
 "nbformat_minor": 5
}
